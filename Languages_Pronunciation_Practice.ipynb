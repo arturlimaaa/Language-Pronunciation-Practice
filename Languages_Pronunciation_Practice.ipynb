{
  "nbformat": 4,
  "nbformat_minor": 0,
  "metadata": {
    "colab": {
      "provenance": []
    },
    "kernelspec": {
      "name": "python3",
      "display_name": "Python 3"
    },
    "language_info": {
      "name": "python"
    },
    "widgets": {
      "application/vnd.jupyter.widget-state+json": {
        "6befa101420541b7b7c6fe010ea05ee2": {
          "model_module": "@jupyter-widgets/controls",
          "model_name": "HBoxModel",
          "model_module_version": "1.5.0",
          "state": {
            "_dom_classes": [],
            "_model_module": "@jupyter-widgets/controls",
            "_model_module_version": "1.5.0",
            "_model_name": "HBoxModel",
            "_view_count": null,
            "_view_module": "@jupyter-widgets/controls",
            "_view_module_version": "1.5.0",
            "_view_name": "HBoxView",
            "box_style": "",
            "children": [
              "IPY_MODEL_1c180a032e7a4b3681340e418aae766d",
              "IPY_MODEL_9f9dac550368420ebd7e786d1afd824a",
              "IPY_MODEL_077821eab059459db8b5da5bbbc07bf2"
            ],
            "layout": "IPY_MODEL_aa145411e5cc422bb7a7b818d80591d3"
          }
        },
        "1c180a032e7a4b3681340e418aae766d": {
          "model_module": "@jupyter-widgets/controls",
          "model_name": "HTMLModel",
          "model_module_version": "1.5.0",
          "state": {
            "_dom_classes": [],
            "_model_module": "@jupyter-widgets/controls",
            "_model_module_version": "1.5.0",
            "_model_name": "HTMLModel",
            "_view_count": null,
            "_view_module": "@jupyter-widgets/controls",
            "_view_module_version": "1.5.0",
            "_view_name": "HTMLView",
            "description": "",
            "description_tooltip": null,
            "layout": "IPY_MODEL_0bfac23052c54ad6ba3c8c4675e24b3a",
            "placeholder": "​",
            "style": "IPY_MODEL_353df81fbd3e47cbad9c302ef5a54d9b",
            "value": "preprocessor_config.json: 100%"
          }
        },
        "9f9dac550368420ebd7e786d1afd824a": {
          "model_module": "@jupyter-widgets/controls",
          "model_name": "FloatProgressModel",
          "model_module_version": "1.5.0",
          "state": {
            "_dom_classes": [],
            "_model_module": "@jupyter-widgets/controls",
            "_model_module_version": "1.5.0",
            "_model_name": "FloatProgressModel",
            "_view_count": null,
            "_view_module": "@jupyter-widgets/controls",
            "_view_module_version": "1.5.0",
            "_view_name": "ProgressView",
            "bar_style": "success",
            "description": "",
            "description_tooltip": null,
            "layout": "IPY_MODEL_008db2098e2e4e23bc82842f2a9e2346",
            "max": 212,
            "min": 0,
            "orientation": "horizontal",
            "style": "IPY_MODEL_ff703210a8bc430a9142b4c49bfc1d48",
            "value": 212
          }
        },
        "077821eab059459db8b5da5bbbc07bf2": {
          "model_module": "@jupyter-widgets/controls",
          "model_name": "HTMLModel",
          "model_module_version": "1.5.0",
          "state": {
            "_dom_classes": [],
            "_model_module": "@jupyter-widgets/controls",
            "_model_module_version": "1.5.0",
            "_model_name": "HTMLModel",
            "_view_count": null,
            "_view_module": "@jupyter-widgets/controls",
            "_view_module_version": "1.5.0",
            "_view_name": "HTMLView",
            "description": "",
            "description_tooltip": null,
            "layout": "IPY_MODEL_c71f51ae45bc4fbbad4ffe6e79bf43b6",
            "placeholder": "​",
            "style": "IPY_MODEL_a861f404938e4964b118a40fb1bad5c3",
            "value": " 212/212 [00:00&lt;00:00, 3.57kB/s]"
          }
        },
        "aa145411e5cc422bb7a7b818d80591d3": {
          "model_module": "@jupyter-widgets/base",
          "model_name": "LayoutModel",
          "model_module_version": "1.2.0",
          "state": {
            "_model_module": "@jupyter-widgets/base",
            "_model_module_version": "1.2.0",
            "_model_name": "LayoutModel",
            "_view_count": null,
            "_view_module": "@jupyter-widgets/base",
            "_view_module_version": "1.2.0",
            "_view_name": "LayoutView",
            "align_content": null,
            "align_items": null,
            "align_self": null,
            "border": null,
            "bottom": null,
            "display": null,
            "flex": null,
            "flex_flow": null,
            "grid_area": null,
            "grid_auto_columns": null,
            "grid_auto_flow": null,
            "grid_auto_rows": null,
            "grid_column": null,
            "grid_gap": null,
            "grid_row": null,
            "grid_template_areas": null,
            "grid_template_columns": null,
            "grid_template_rows": null,
            "height": null,
            "justify_content": null,
            "justify_items": null,
            "left": null,
            "margin": null,
            "max_height": null,
            "max_width": null,
            "min_height": null,
            "min_width": null,
            "object_fit": null,
            "object_position": null,
            "order": null,
            "overflow": null,
            "overflow_x": null,
            "overflow_y": null,
            "padding": null,
            "right": null,
            "top": null,
            "visibility": null,
            "width": null
          }
        },
        "0bfac23052c54ad6ba3c8c4675e24b3a": {
          "model_module": "@jupyter-widgets/base",
          "model_name": "LayoutModel",
          "model_module_version": "1.2.0",
          "state": {
            "_model_module": "@jupyter-widgets/base",
            "_model_module_version": "1.2.0",
            "_model_name": "LayoutModel",
            "_view_count": null,
            "_view_module": "@jupyter-widgets/base",
            "_view_module_version": "1.2.0",
            "_view_name": "LayoutView",
            "align_content": null,
            "align_items": null,
            "align_self": null,
            "border": null,
            "bottom": null,
            "display": null,
            "flex": null,
            "flex_flow": null,
            "grid_area": null,
            "grid_auto_columns": null,
            "grid_auto_flow": null,
            "grid_auto_rows": null,
            "grid_column": null,
            "grid_gap": null,
            "grid_row": null,
            "grid_template_areas": null,
            "grid_template_columns": null,
            "grid_template_rows": null,
            "height": null,
            "justify_content": null,
            "justify_items": null,
            "left": null,
            "margin": null,
            "max_height": null,
            "max_width": null,
            "min_height": null,
            "min_width": null,
            "object_fit": null,
            "object_position": null,
            "order": null,
            "overflow": null,
            "overflow_x": null,
            "overflow_y": null,
            "padding": null,
            "right": null,
            "top": null,
            "visibility": null,
            "width": null
          }
        },
        "353df81fbd3e47cbad9c302ef5a54d9b": {
          "model_module": "@jupyter-widgets/controls",
          "model_name": "DescriptionStyleModel",
          "model_module_version": "1.5.0",
          "state": {
            "_model_module": "@jupyter-widgets/controls",
            "_model_module_version": "1.5.0",
            "_model_name": "DescriptionStyleModel",
            "_view_count": null,
            "_view_module": "@jupyter-widgets/base",
            "_view_module_version": "1.2.0",
            "_view_name": "StyleView",
            "description_width": ""
          }
        },
        "008db2098e2e4e23bc82842f2a9e2346": {
          "model_module": "@jupyter-widgets/base",
          "model_name": "LayoutModel",
          "model_module_version": "1.2.0",
          "state": {
            "_model_module": "@jupyter-widgets/base",
            "_model_module_version": "1.2.0",
            "_model_name": "LayoutModel",
            "_view_count": null,
            "_view_module": "@jupyter-widgets/base",
            "_view_module_version": "1.2.0",
            "_view_name": "LayoutView",
            "align_content": null,
            "align_items": null,
            "align_self": null,
            "border": null,
            "bottom": null,
            "display": null,
            "flex": null,
            "flex_flow": null,
            "grid_area": null,
            "grid_auto_columns": null,
            "grid_auto_flow": null,
            "grid_auto_rows": null,
            "grid_column": null,
            "grid_gap": null,
            "grid_row": null,
            "grid_template_areas": null,
            "grid_template_columns": null,
            "grid_template_rows": null,
            "height": null,
            "justify_content": null,
            "justify_items": null,
            "left": null,
            "margin": null,
            "max_height": null,
            "max_width": null,
            "min_height": null,
            "min_width": null,
            "object_fit": null,
            "object_position": null,
            "order": null,
            "overflow": null,
            "overflow_x": null,
            "overflow_y": null,
            "padding": null,
            "right": null,
            "top": null,
            "visibility": null,
            "width": null
          }
        },
        "ff703210a8bc430a9142b4c49bfc1d48": {
          "model_module": "@jupyter-widgets/controls",
          "model_name": "ProgressStyleModel",
          "model_module_version": "1.5.0",
          "state": {
            "_model_module": "@jupyter-widgets/controls",
            "_model_module_version": "1.5.0",
            "_model_name": "ProgressStyleModel",
            "_view_count": null,
            "_view_module": "@jupyter-widgets/base",
            "_view_module_version": "1.2.0",
            "_view_name": "StyleView",
            "bar_color": null,
            "description_width": ""
          }
        },
        "c71f51ae45bc4fbbad4ffe6e79bf43b6": {
          "model_module": "@jupyter-widgets/base",
          "model_name": "LayoutModel",
          "model_module_version": "1.2.0",
          "state": {
            "_model_module": "@jupyter-widgets/base",
            "_model_module_version": "1.2.0",
            "_model_name": "LayoutModel",
            "_view_count": null,
            "_view_module": "@jupyter-widgets/base",
            "_view_module_version": "1.2.0",
            "_view_name": "LayoutView",
            "align_content": null,
            "align_items": null,
            "align_self": null,
            "border": null,
            "bottom": null,
            "display": null,
            "flex": null,
            "flex_flow": null,
            "grid_area": null,
            "grid_auto_columns": null,
            "grid_auto_flow": null,
            "grid_auto_rows": null,
            "grid_column": null,
            "grid_gap": null,
            "grid_row": null,
            "grid_template_areas": null,
            "grid_template_columns": null,
            "grid_template_rows": null,
            "height": null,
            "justify_content": null,
            "justify_items": null,
            "left": null,
            "margin": null,
            "max_height": null,
            "max_width": null,
            "min_height": null,
            "min_width": null,
            "object_fit": null,
            "object_position": null,
            "order": null,
            "overflow": null,
            "overflow_x": null,
            "overflow_y": null,
            "padding": null,
            "right": null,
            "top": null,
            "visibility": null,
            "width": null
          }
        },
        "a861f404938e4964b118a40fb1bad5c3": {
          "model_module": "@jupyter-widgets/controls",
          "model_name": "DescriptionStyleModel",
          "model_module_version": "1.5.0",
          "state": {
            "_model_module": "@jupyter-widgets/controls",
            "_model_module_version": "1.5.0",
            "_model_name": "DescriptionStyleModel",
            "_view_count": null,
            "_view_module": "@jupyter-widgets/base",
            "_view_module_version": "1.2.0",
            "_view_name": "StyleView",
            "description_width": ""
          }
        },
        "6423388385a54bd5b325fed5b5cbbd46": {
          "model_module": "@jupyter-widgets/controls",
          "model_name": "HBoxModel",
          "model_module_version": "1.5.0",
          "state": {
            "_dom_classes": [],
            "_model_module": "@jupyter-widgets/controls",
            "_model_module_version": "1.5.0",
            "_model_name": "HBoxModel",
            "_view_count": null,
            "_view_module": "@jupyter-widgets/controls",
            "_view_module_version": "1.5.0",
            "_view_name": "HBoxView",
            "box_style": "",
            "children": [
              "IPY_MODEL_e682c5d0a20349948e3ffd0e4e7a5d6d",
              "IPY_MODEL_82a32d7079b84aaebb2d5d5c74ba5968",
              "IPY_MODEL_8cbf30c1631a4ff49583422d4029995f"
            ],
            "layout": "IPY_MODEL_a0659b74e0be414ba1d037ab972bfb10"
          }
        },
        "e682c5d0a20349948e3ffd0e4e7a5d6d": {
          "model_module": "@jupyter-widgets/controls",
          "model_name": "HTMLModel",
          "model_module_version": "1.5.0",
          "state": {
            "_dom_classes": [],
            "_model_module": "@jupyter-widgets/controls",
            "_model_module_version": "1.5.0",
            "_model_name": "HTMLModel",
            "_view_count": null,
            "_view_module": "@jupyter-widgets/controls",
            "_view_module_version": "1.5.0",
            "_view_name": "HTMLView",
            "description": "",
            "description_tooltip": null,
            "layout": "IPY_MODEL_9c18d485a2d242138f9b3f9c8006b4c9",
            "placeholder": "​",
            "style": "IPY_MODEL_94ad942a215a433e8a011335875835c7",
            "value": "config.json: 100%"
          }
        },
        "82a32d7079b84aaebb2d5d5c74ba5968": {
          "model_module": "@jupyter-widgets/controls",
          "model_name": "FloatProgressModel",
          "model_module_version": "1.5.0",
          "state": {
            "_dom_classes": [],
            "_model_module": "@jupyter-widgets/controls",
            "_model_module_version": "1.5.0",
            "_model_name": "FloatProgressModel",
            "_view_count": null,
            "_view_module": "@jupyter-widgets/controls",
            "_view_module_version": "1.5.0",
            "_view_name": "ProgressView",
            "bar_style": "success",
            "description": "",
            "description_tooltip": null,
            "layout": "IPY_MODEL_22447240f56c4a2d8251b3604c4b499a",
            "max": 1768,
            "min": 0,
            "orientation": "horizontal",
            "style": "IPY_MODEL_099cafaea0bf482dbb55ac6d47008c69",
            "value": 1768
          }
        },
        "8cbf30c1631a4ff49583422d4029995f": {
          "model_module": "@jupyter-widgets/controls",
          "model_name": "HTMLModel",
          "model_module_version": "1.5.0",
          "state": {
            "_dom_classes": [],
            "_model_module": "@jupyter-widgets/controls",
            "_model_module_version": "1.5.0",
            "_model_name": "HTMLModel",
            "_view_count": null,
            "_view_module": "@jupyter-widgets/controls",
            "_view_module_version": "1.5.0",
            "_view_name": "HTMLView",
            "description": "",
            "description_tooltip": null,
            "layout": "IPY_MODEL_f95745e09a8a4d51a8d0a8c15c063426",
            "placeholder": "​",
            "style": "IPY_MODEL_7ff5faa9726c480fb09bc724d106574d",
            "value": " 1.77k/1.77k [00:00&lt;00:00, 41.1kB/s]"
          }
        },
        "a0659b74e0be414ba1d037ab972bfb10": {
          "model_module": "@jupyter-widgets/base",
          "model_name": "LayoutModel",
          "model_module_version": "1.2.0",
          "state": {
            "_model_module": "@jupyter-widgets/base",
            "_model_module_version": "1.2.0",
            "_model_name": "LayoutModel",
            "_view_count": null,
            "_view_module": "@jupyter-widgets/base",
            "_view_module_version": "1.2.0",
            "_view_name": "LayoutView",
            "align_content": null,
            "align_items": null,
            "align_self": null,
            "border": null,
            "bottom": null,
            "display": null,
            "flex": null,
            "flex_flow": null,
            "grid_area": null,
            "grid_auto_columns": null,
            "grid_auto_flow": null,
            "grid_auto_rows": null,
            "grid_column": null,
            "grid_gap": null,
            "grid_row": null,
            "grid_template_areas": null,
            "grid_template_columns": null,
            "grid_template_rows": null,
            "height": null,
            "justify_content": null,
            "justify_items": null,
            "left": null,
            "margin": null,
            "max_height": null,
            "max_width": null,
            "min_height": null,
            "min_width": null,
            "object_fit": null,
            "object_position": null,
            "order": null,
            "overflow": null,
            "overflow_x": null,
            "overflow_y": null,
            "padding": null,
            "right": null,
            "top": null,
            "visibility": null,
            "width": null
          }
        },
        "9c18d485a2d242138f9b3f9c8006b4c9": {
          "model_module": "@jupyter-widgets/base",
          "model_name": "LayoutModel",
          "model_module_version": "1.2.0",
          "state": {
            "_model_module": "@jupyter-widgets/base",
            "_model_module_version": "1.2.0",
            "_model_name": "LayoutModel",
            "_view_count": null,
            "_view_module": "@jupyter-widgets/base",
            "_view_module_version": "1.2.0",
            "_view_name": "LayoutView",
            "align_content": null,
            "align_items": null,
            "align_self": null,
            "border": null,
            "bottom": null,
            "display": null,
            "flex": null,
            "flex_flow": null,
            "grid_area": null,
            "grid_auto_columns": null,
            "grid_auto_flow": null,
            "grid_auto_rows": null,
            "grid_column": null,
            "grid_gap": null,
            "grid_row": null,
            "grid_template_areas": null,
            "grid_template_columns": null,
            "grid_template_rows": null,
            "height": null,
            "justify_content": null,
            "justify_items": null,
            "left": null,
            "margin": null,
            "max_height": null,
            "max_width": null,
            "min_height": null,
            "min_width": null,
            "object_fit": null,
            "object_position": null,
            "order": null,
            "overflow": null,
            "overflow_x": null,
            "overflow_y": null,
            "padding": null,
            "right": null,
            "top": null,
            "visibility": null,
            "width": null
          }
        },
        "94ad942a215a433e8a011335875835c7": {
          "model_module": "@jupyter-widgets/controls",
          "model_name": "DescriptionStyleModel",
          "model_module_version": "1.5.0",
          "state": {
            "_model_module": "@jupyter-widgets/controls",
            "_model_module_version": "1.5.0",
            "_model_name": "DescriptionStyleModel",
            "_view_count": null,
            "_view_module": "@jupyter-widgets/base",
            "_view_module_version": "1.2.0",
            "_view_name": "StyleView",
            "description_width": ""
          }
        },
        "22447240f56c4a2d8251b3604c4b499a": {
          "model_module": "@jupyter-widgets/base",
          "model_name": "LayoutModel",
          "model_module_version": "1.2.0",
          "state": {
            "_model_module": "@jupyter-widgets/base",
            "_model_module_version": "1.2.0",
            "_model_name": "LayoutModel",
            "_view_count": null,
            "_view_module": "@jupyter-widgets/base",
            "_view_module_version": "1.2.0",
            "_view_name": "LayoutView",
            "align_content": null,
            "align_items": null,
            "align_self": null,
            "border": null,
            "bottom": null,
            "display": null,
            "flex": null,
            "flex_flow": null,
            "grid_area": null,
            "grid_auto_columns": null,
            "grid_auto_flow": null,
            "grid_auto_rows": null,
            "grid_column": null,
            "grid_gap": null,
            "grid_row": null,
            "grid_template_areas": null,
            "grid_template_columns": null,
            "grid_template_rows": null,
            "height": null,
            "justify_content": null,
            "justify_items": null,
            "left": null,
            "margin": null,
            "max_height": null,
            "max_width": null,
            "min_height": null,
            "min_width": null,
            "object_fit": null,
            "object_position": null,
            "order": null,
            "overflow": null,
            "overflow_x": null,
            "overflow_y": null,
            "padding": null,
            "right": null,
            "top": null,
            "visibility": null,
            "width": null
          }
        },
        "099cafaea0bf482dbb55ac6d47008c69": {
          "model_module": "@jupyter-widgets/controls",
          "model_name": "ProgressStyleModel",
          "model_module_version": "1.5.0",
          "state": {
            "_model_module": "@jupyter-widgets/controls",
            "_model_module_version": "1.5.0",
            "_model_name": "ProgressStyleModel",
            "_view_count": null,
            "_view_module": "@jupyter-widgets/base",
            "_view_module_version": "1.2.0",
            "_view_name": "StyleView",
            "bar_color": null,
            "description_width": ""
          }
        },
        "f95745e09a8a4d51a8d0a8c15c063426": {
          "model_module": "@jupyter-widgets/base",
          "model_name": "LayoutModel",
          "model_module_version": "1.2.0",
          "state": {
            "_model_module": "@jupyter-widgets/base",
            "_model_module_version": "1.2.0",
            "_model_name": "LayoutModel",
            "_view_count": null,
            "_view_module": "@jupyter-widgets/base",
            "_view_module_version": "1.2.0",
            "_view_name": "LayoutView",
            "align_content": null,
            "align_items": null,
            "align_self": null,
            "border": null,
            "bottom": null,
            "display": null,
            "flex": null,
            "flex_flow": null,
            "grid_area": null,
            "grid_auto_columns": null,
            "grid_auto_flow": null,
            "grid_auto_rows": null,
            "grid_column": null,
            "grid_gap": null,
            "grid_row": null,
            "grid_template_areas": null,
            "grid_template_columns": null,
            "grid_template_rows": null,
            "height": null,
            "justify_content": null,
            "justify_items": null,
            "left": null,
            "margin": null,
            "max_height": null,
            "max_width": null,
            "min_height": null,
            "min_width": null,
            "object_fit": null,
            "object_position": null,
            "order": null,
            "overflow": null,
            "overflow_x": null,
            "overflow_y": null,
            "padding": null,
            "right": null,
            "top": null,
            "visibility": null,
            "width": null
          }
        },
        "7ff5faa9726c480fb09bc724d106574d": {
          "model_module": "@jupyter-widgets/controls",
          "model_name": "DescriptionStyleModel",
          "model_module_version": "1.5.0",
          "state": {
            "_model_module": "@jupyter-widgets/controls",
            "_model_module_version": "1.5.0",
            "_model_name": "DescriptionStyleModel",
            "_view_count": null,
            "_view_module": "@jupyter-widgets/base",
            "_view_module_version": "1.2.0",
            "_view_name": "StyleView",
            "description_width": ""
          }
        },
        "7c09a765e0b1440cb78004d97ae55c0f": {
          "model_module": "@jupyter-widgets/controls",
          "model_name": "HBoxModel",
          "model_module_version": "1.5.0",
          "state": {
            "_dom_classes": [],
            "_model_module": "@jupyter-widgets/controls",
            "_model_module_version": "1.5.0",
            "_model_name": "HBoxModel",
            "_view_count": null,
            "_view_module": "@jupyter-widgets/controls",
            "_view_module_version": "1.5.0",
            "_view_name": "HBoxView",
            "box_style": "",
            "children": [
              "IPY_MODEL_1a61251d881a499896e2f7c83dd854a3",
              "IPY_MODEL_acf38b55eaa14b05b2281e638f3a06fb",
              "IPY_MODEL_ef709ded5859461fb7f3f8b42ea3d1d9"
            ],
            "layout": "IPY_MODEL_1cd3ca74acee40b59efaf0041d0661e1"
          }
        },
        "1a61251d881a499896e2f7c83dd854a3": {
          "model_module": "@jupyter-widgets/controls",
          "model_name": "HTMLModel",
          "model_module_version": "1.5.0",
          "state": {
            "_dom_classes": [],
            "_model_module": "@jupyter-widgets/controls",
            "_model_module_version": "1.5.0",
            "_model_name": "HTMLModel",
            "_view_count": null,
            "_view_module": "@jupyter-widgets/controls",
            "_view_module_version": "1.5.0",
            "_view_name": "HTMLView",
            "description": "",
            "description_tooltip": null,
            "layout": "IPY_MODEL_72e45a78adb4462c91bea1386a7a221f",
            "placeholder": "​",
            "style": "IPY_MODEL_a9531fb8570a40ebaa5abe56f21c47d4",
            "value": "pytorch_model.bin: 100%"
          }
        },
        "acf38b55eaa14b05b2281e638f3a06fb": {
          "model_module": "@jupyter-widgets/controls",
          "model_name": "FloatProgressModel",
          "model_module_version": "1.5.0",
          "state": {
            "_dom_classes": [],
            "_model_module": "@jupyter-widgets/controls",
            "_model_module_version": "1.5.0",
            "_model_name": "FloatProgressModel",
            "_view_count": null,
            "_view_module": "@jupyter-widgets/controls",
            "_view_module_version": "1.5.0",
            "_view_name": "ProgressView",
            "bar_style": "success",
            "description": "",
            "description_tooltip": null,
            "layout": "IPY_MODEL_88e167d8b6b54a4998ab4a8f583425e4",
            "max": 1269737156,
            "min": 0,
            "orientation": "horizontal",
            "style": "IPY_MODEL_5d43ad80c6fc4e5587abbf81bc0abc6e",
            "value": 1269737156
          }
        },
        "ef709ded5859461fb7f3f8b42ea3d1d9": {
          "model_module": "@jupyter-widgets/controls",
          "model_name": "HTMLModel",
          "model_module_version": "1.5.0",
          "state": {
            "_dom_classes": [],
            "_model_module": "@jupyter-widgets/controls",
            "_model_module_version": "1.5.0",
            "_model_name": "HTMLModel",
            "_view_count": null,
            "_view_module": "@jupyter-widgets/controls",
            "_view_module_version": "1.5.0",
            "_view_name": "HTMLView",
            "description": "",
            "description_tooltip": null,
            "layout": "IPY_MODEL_a3c765ae6a1345ed912d48f2ee9b81a9",
            "placeholder": "​",
            "style": "IPY_MODEL_7001628555f34444b4aa530475bcd99b",
            "value": " 1.27G/1.27G [00:17&lt;00:00, 90.9MB/s]"
          }
        },
        "1cd3ca74acee40b59efaf0041d0661e1": {
          "model_module": "@jupyter-widgets/base",
          "model_name": "LayoutModel",
          "model_module_version": "1.2.0",
          "state": {
            "_model_module": "@jupyter-widgets/base",
            "_model_module_version": "1.2.0",
            "_model_name": "LayoutModel",
            "_view_count": null,
            "_view_module": "@jupyter-widgets/base",
            "_view_module_version": "1.2.0",
            "_view_name": "LayoutView",
            "align_content": null,
            "align_items": null,
            "align_self": null,
            "border": null,
            "bottom": null,
            "display": null,
            "flex": null,
            "flex_flow": null,
            "grid_area": null,
            "grid_auto_columns": null,
            "grid_auto_flow": null,
            "grid_auto_rows": null,
            "grid_column": null,
            "grid_gap": null,
            "grid_row": null,
            "grid_template_areas": null,
            "grid_template_columns": null,
            "grid_template_rows": null,
            "height": null,
            "justify_content": null,
            "justify_items": null,
            "left": null,
            "margin": null,
            "max_height": null,
            "max_width": null,
            "min_height": null,
            "min_width": null,
            "object_fit": null,
            "object_position": null,
            "order": null,
            "overflow": null,
            "overflow_x": null,
            "overflow_y": null,
            "padding": null,
            "right": null,
            "top": null,
            "visibility": null,
            "width": null
          }
        },
        "72e45a78adb4462c91bea1386a7a221f": {
          "model_module": "@jupyter-widgets/base",
          "model_name": "LayoutModel",
          "model_module_version": "1.2.0",
          "state": {
            "_model_module": "@jupyter-widgets/base",
            "_model_module_version": "1.2.0",
            "_model_name": "LayoutModel",
            "_view_count": null,
            "_view_module": "@jupyter-widgets/base",
            "_view_module_version": "1.2.0",
            "_view_name": "LayoutView",
            "align_content": null,
            "align_items": null,
            "align_self": null,
            "border": null,
            "bottom": null,
            "display": null,
            "flex": null,
            "flex_flow": null,
            "grid_area": null,
            "grid_auto_columns": null,
            "grid_auto_flow": null,
            "grid_auto_rows": null,
            "grid_column": null,
            "grid_gap": null,
            "grid_row": null,
            "grid_template_areas": null,
            "grid_template_columns": null,
            "grid_template_rows": null,
            "height": null,
            "justify_content": null,
            "justify_items": null,
            "left": null,
            "margin": null,
            "max_height": null,
            "max_width": null,
            "min_height": null,
            "min_width": null,
            "object_fit": null,
            "object_position": null,
            "order": null,
            "overflow": null,
            "overflow_x": null,
            "overflow_y": null,
            "padding": null,
            "right": null,
            "top": null,
            "visibility": null,
            "width": null
          }
        },
        "a9531fb8570a40ebaa5abe56f21c47d4": {
          "model_module": "@jupyter-widgets/controls",
          "model_name": "DescriptionStyleModel",
          "model_module_version": "1.5.0",
          "state": {
            "_model_module": "@jupyter-widgets/controls",
            "_model_module_version": "1.5.0",
            "_model_name": "DescriptionStyleModel",
            "_view_count": null,
            "_view_module": "@jupyter-widgets/base",
            "_view_module_version": "1.2.0",
            "_view_name": "StyleView",
            "description_width": ""
          }
        },
        "88e167d8b6b54a4998ab4a8f583425e4": {
          "model_module": "@jupyter-widgets/base",
          "model_name": "LayoutModel",
          "model_module_version": "1.2.0",
          "state": {
            "_model_module": "@jupyter-widgets/base",
            "_model_module_version": "1.2.0",
            "_model_name": "LayoutModel",
            "_view_count": null,
            "_view_module": "@jupyter-widgets/base",
            "_view_module_version": "1.2.0",
            "_view_name": "LayoutView",
            "align_content": null,
            "align_items": null,
            "align_self": null,
            "border": null,
            "bottom": null,
            "display": null,
            "flex": null,
            "flex_flow": null,
            "grid_area": null,
            "grid_auto_columns": null,
            "grid_auto_flow": null,
            "grid_auto_rows": null,
            "grid_column": null,
            "grid_gap": null,
            "grid_row": null,
            "grid_template_areas": null,
            "grid_template_columns": null,
            "grid_template_rows": null,
            "height": null,
            "justify_content": null,
            "justify_items": null,
            "left": null,
            "margin": null,
            "max_height": null,
            "max_width": null,
            "min_height": null,
            "min_width": null,
            "object_fit": null,
            "object_position": null,
            "order": null,
            "overflow": null,
            "overflow_x": null,
            "overflow_y": null,
            "padding": null,
            "right": null,
            "top": null,
            "visibility": null,
            "width": null
          }
        },
        "5d43ad80c6fc4e5587abbf81bc0abc6e": {
          "model_module": "@jupyter-widgets/controls",
          "model_name": "ProgressStyleModel",
          "model_module_version": "1.5.0",
          "state": {
            "_model_module": "@jupyter-widgets/controls",
            "_model_module_version": "1.5.0",
            "_model_name": "ProgressStyleModel",
            "_view_count": null,
            "_view_module": "@jupyter-widgets/base",
            "_view_module_version": "1.2.0",
            "_view_name": "StyleView",
            "bar_color": null,
            "description_width": ""
          }
        },
        "a3c765ae6a1345ed912d48f2ee9b81a9": {
          "model_module": "@jupyter-widgets/base",
          "model_name": "LayoutModel",
          "model_module_version": "1.2.0",
          "state": {
            "_model_module": "@jupyter-widgets/base",
            "_model_module_version": "1.2.0",
            "_model_name": "LayoutModel",
            "_view_count": null,
            "_view_module": "@jupyter-widgets/base",
            "_view_module_version": "1.2.0",
            "_view_name": "LayoutView",
            "align_content": null,
            "align_items": null,
            "align_self": null,
            "border": null,
            "bottom": null,
            "display": null,
            "flex": null,
            "flex_flow": null,
            "grid_area": null,
            "grid_auto_columns": null,
            "grid_auto_flow": null,
            "grid_auto_rows": null,
            "grid_column": null,
            "grid_gap": null,
            "grid_row": null,
            "grid_template_areas": null,
            "grid_template_columns": null,
            "grid_template_rows": null,
            "height": null,
            "justify_content": null,
            "justify_items": null,
            "left": null,
            "margin": null,
            "max_height": null,
            "max_width": null,
            "min_height": null,
            "min_width": null,
            "object_fit": null,
            "object_position": null,
            "order": null,
            "overflow": null,
            "overflow_x": null,
            "overflow_y": null,
            "padding": null,
            "right": null,
            "top": null,
            "visibility": null,
            "width": null
          }
        },
        "7001628555f34444b4aa530475bcd99b": {
          "model_module": "@jupyter-widgets/controls",
          "model_name": "DescriptionStyleModel",
          "model_module_version": "1.5.0",
          "state": {
            "_model_module": "@jupyter-widgets/controls",
            "_model_module_version": "1.5.0",
            "_model_name": "DescriptionStyleModel",
            "_view_count": null,
            "_view_module": "@jupyter-widgets/base",
            "_view_module_version": "1.2.0",
            "_view_name": "StyleView",
            "description_width": ""
          }
        },
        "d888aa7dc1ec4f2b850c6449dc54edad": {
          "model_module": "@jupyter-widgets/controls",
          "model_name": "HBoxModel",
          "model_module_version": "1.5.0",
          "state": {
            "_dom_classes": [],
            "_model_module": "@jupyter-widgets/controls",
            "_model_module_version": "1.5.0",
            "_model_name": "HBoxModel",
            "_view_count": null,
            "_view_module": "@jupyter-widgets/controls",
            "_view_module_version": "1.5.0",
            "_view_name": "HBoxView",
            "box_style": "",
            "children": [
              "IPY_MODEL_3d356ef85dcb47119fbe513a31f6b31f",
              "IPY_MODEL_b0fbbc6d819541efa664cc5ba8268f0f",
              "IPY_MODEL_ff7144bb493d4155a7412fcfbe56e778"
            ],
            "layout": "IPY_MODEL_30c7404ed6b24262b401504f553f8712"
          }
        },
        "3d356ef85dcb47119fbe513a31f6b31f": {
          "model_module": "@jupyter-widgets/controls",
          "model_name": "HTMLModel",
          "model_module_version": "1.5.0",
          "state": {
            "_dom_classes": [],
            "_model_module": "@jupyter-widgets/controls",
            "_model_module_version": "1.5.0",
            "_model_name": "HTMLModel",
            "_view_count": null,
            "_view_module": "@jupyter-widgets/controls",
            "_view_module_version": "1.5.0",
            "_view_name": "HTMLView",
            "description": "",
            "description_tooltip": null,
            "layout": "IPY_MODEL_e99f45dffb3643f294549211b7718c5e",
            "placeholder": "​",
            "style": "IPY_MODEL_847aeeec41be40bfa016e27c5cf349e1",
            "value": "model.safetensors: 100%"
          }
        },
        "b0fbbc6d819541efa664cc5ba8268f0f": {
          "model_module": "@jupyter-widgets/controls",
          "model_name": "FloatProgressModel",
          "model_module_version": "1.5.0",
          "state": {
            "_dom_classes": [],
            "_model_module": "@jupyter-widgets/controls",
            "_model_module_version": "1.5.0",
            "_model_name": "FloatProgressModel",
            "_view_count": null,
            "_view_module": "@jupyter-widgets/controls",
            "_view_module_version": "1.5.0",
            "_view_name": "ProgressView",
            "bar_style": "success",
            "description": "",
            "description_tooltip": null,
            "layout": "IPY_MODEL_903a5b8cd7814053aa302a4357f0da99",
            "max": 1269615400,
            "min": 0,
            "orientation": "horizontal",
            "style": "IPY_MODEL_ca5feffef783402cbef86e55bb5ba7fc",
            "value": 1269615400
          }
        },
        "ff7144bb493d4155a7412fcfbe56e778": {
          "model_module": "@jupyter-widgets/controls",
          "model_name": "HTMLModel",
          "model_module_version": "1.5.0",
          "state": {
            "_dom_classes": [],
            "_model_module": "@jupyter-widgets/controls",
            "_model_module_version": "1.5.0",
            "_model_name": "HTMLModel",
            "_view_count": null,
            "_view_module": "@jupyter-widgets/controls",
            "_view_module_version": "1.5.0",
            "_view_name": "HTMLView",
            "description": "",
            "description_tooltip": null,
            "layout": "IPY_MODEL_3cb7ff4d0adf43d48cf0e0c53f8a20b8",
            "placeholder": "​",
            "style": "IPY_MODEL_b236c9c01ad545608a8c95e598990a96",
            "value": " 1.27G/1.27G [00:10&lt;00:00, 222MB/s]"
          }
        },
        "30c7404ed6b24262b401504f553f8712": {
          "model_module": "@jupyter-widgets/base",
          "model_name": "LayoutModel",
          "model_module_version": "1.2.0",
          "state": {
            "_model_module": "@jupyter-widgets/base",
            "_model_module_version": "1.2.0",
            "_model_name": "LayoutModel",
            "_view_count": null,
            "_view_module": "@jupyter-widgets/base",
            "_view_module_version": "1.2.0",
            "_view_name": "LayoutView",
            "align_content": null,
            "align_items": null,
            "align_self": null,
            "border": null,
            "bottom": null,
            "display": null,
            "flex": null,
            "flex_flow": null,
            "grid_area": null,
            "grid_auto_columns": null,
            "grid_auto_flow": null,
            "grid_auto_rows": null,
            "grid_column": null,
            "grid_gap": null,
            "grid_row": null,
            "grid_template_areas": null,
            "grid_template_columns": null,
            "grid_template_rows": null,
            "height": null,
            "justify_content": null,
            "justify_items": null,
            "left": null,
            "margin": null,
            "max_height": null,
            "max_width": null,
            "min_height": null,
            "min_width": null,
            "object_fit": null,
            "object_position": null,
            "order": null,
            "overflow": null,
            "overflow_x": null,
            "overflow_y": null,
            "padding": null,
            "right": null,
            "top": null,
            "visibility": null,
            "width": null
          }
        },
        "e99f45dffb3643f294549211b7718c5e": {
          "model_module": "@jupyter-widgets/base",
          "model_name": "LayoutModel",
          "model_module_version": "1.2.0",
          "state": {
            "_model_module": "@jupyter-widgets/base",
            "_model_module_version": "1.2.0",
            "_model_name": "LayoutModel",
            "_view_count": null,
            "_view_module": "@jupyter-widgets/base",
            "_view_module_version": "1.2.0",
            "_view_name": "LayoutView",
            "align_content": null,
            "align_items": null,
            "align_self": null,
            "border": null,
            "bottom": null,
            "display": null,
            "flex": null,
            "flex_flow": null,
            "grid_area": null,
            "grid_auto_columns": null,
            "grid_auto_flow": null,
            "grid_auto_rows": null,
            "grid_column": null,
            "grid_gap": null,
            "grid_row": null,
            "grid_template_areas": null,
            "grid_template_columns": null,
            "grid_template_rows": null,
            "height": null,
            "justify_content": null,
            "justify_items": null,
            "left": null,
            "margin": null,
            "max_height": null,
            "max_width": null,
            "min_height": null,
            "min_width": null,
            "object_fit": null,
            "object_position": null,
            "order": null,
            "overflow": null,
            "overflow_x": null,
            "overflow_y": null,
            "padding": null,
            "right": null,
            "top": null,
            "visibility": null,
            "width": null
          }
        },
        "847aeeec41be40bfa016e27c5cf349e1": {
          "model_module": "@jupyter-widgets/controls",
          "model_name": "DescriptionStyleModel",
          "model_module_version": "1.5.0",
          "state": {
            "_model_module": "@jupyter-widgets/controls",
            "_model_module_version": "1.5.0",
            "_model_name": "DescriptionStyleModel",
            "_view_count": null,
            "_view_module": "@jupyter-widgets/base",
            "_view_module_version": "1.2.0",
            "_view_name": "StyleView",
            "description_width": ""
          }
        },
        "903a5b8cd7814053aa302a4357f0da99": {
          "model_module": "@jupyter-widgets/base",
          "model_name": "LayoutModel",
          "model_module_version": "1.2.0",
          "state": {
            "_model_module": "@jupyter-widgets/base",
            "_model_module_version": "1.2.0",
            "_model_name": "LayoutModel",
            "_view_count": null,
            "_view_module": "@jupyter-widgets/base",
            "_view_module_version": "1.2.0",
            "_view_name": "LayoutView",
            "align_content": null,
            "align_items": null,
            "align_self": null,
            "border": null,
            "bottom": null,
            "display": null,
            "flex": null,
            "flex_flow": null,
            "grid_area": null,
            "grid_auto_columns": null,
            "grid_auto_flow": null,
            "grid_auto_rows": null,
            "grid_column": null,
            "grid_gap": null,
            "grid_row": null,
            "grid_template_areas": null,
            "grid_template_columns": null,
            "grid_template_rows": null,
            "height": null,
            "justify_content": null,
            "justify_items": null,
            "left": null,
            "margin": null,
            "max_height": null,
            "max_width": null,
            "min_height": null,
            "min_width": null,
            "object_fit": null,
            "object_position": null,
            "order": null,
            "overflow": null,
            "overflow_x": null,
            "overflow_y": null,
            "padding": null,
            "right": null,
            "top": null,
            "visibility": null,
            "width": null
          }
        },
        "ca5feffef783402cbef86e55bb5ba7fc": {
          "model_module": "@jupyter-widgets/controls",
          "model_name": "ProgressStyleModel",
          "model_module_version": "1.5.0",
          "state": {
            "_model_module": "@jupyter-widgets/controls",
            "_model_module_version": "1.5.0",
            "_model_name": "ProgressStyleModel",
            "_view_count": null,
            "_view_module": "@jupyter-widgets/base",
            "_view_module_version": "1.2.0",
            "_view_name": "StyleView",
            "bar_color": null,
            "description_width": ""
          }
        },
        "3cb7ff4d0adf43d48cf0e0c53f8a20b8": {
          "model_module": "@jupyter-widgets/base",
          "model_name": "LayoutModel",
          "model_module_version": "1.2.0",
          "state": {
            "_model_module": "@jupyter-widgets/base",
            "_model_module_version": "1.2.0",
            "_model_name": "LayoutModel",
            "_view_count": null,
            "_view_module": "@jupyter-widgets/base",
            "_view_module_version": "1.2.0",
            "_view_name": "LayoutView",
            "align_content": null,
            "align_items": null,
            "align_self": null,
            "border": null,
            "bottom": null,
            "display": null,
            "flex": null,
            "flex_flow": null,
            "grid_area": null,
            "grid_auto_columns": null,
            "grid_auto_flow": null,
            "grid_auto_rows": null,
            "grid_column": null,
            "grid_gap": null,
            "grid_row": null,
            "grid_template_areas": null,
            "grid_template_columns": null,
            "grid_template_rows": null,
            "height": null,
            "justify_content": null,
            "justify_items": null,
            "left": null,
            "margin": null,
            "max_height": null,
            "max_width": null,
            "min_height": null,
            "min_width": null,
            "object_fit": null,
            "object_position": null,
            "order": null,
            "overflow": null,
            "overflow_x": null,
            "overflow_y": null,
            "padding": null,
            "right": null,
            "top": null,
            "visibility": null,
            "width": null
          }
        },
        "b236c9c01ad545608a8c95e598990a96": {
          "model_module": "@jupyter-widgets/controls",
          "model_name": "DescriptionStyleModel",
          "model_module_version": "1.5.0",
          "state": {
            "_model_module": "@jupyter-widgets/controls",
            "_model_module_version": "1.5.0",
            "_model_name": "DescriptionStyleModel",
            "_view_count": null,
            "_view_module": "@jupyter-widgets/base",
            "_view_module_version": "1.2.0",
            "_view_name": "StyleView",
            "description_width": ""
          }
        }
      }
    }
  },
  "cells": [
    {
      "cell_type": "code",
      "source": [
        "!pip install -q openai-whisper gradio thefuzz gtts librosa transformers\n",
        "!pip install --upgrade gradio"
      ],
      "metadata": {
        "colab": {
          "base_uri": "https://localhost:8080/"
        },
        "id": "XRz2RMFyzGlQ",
        "outputId": "d2b6929c-344f-4c00-d0d5-ec101364890f"
      },
      "execution_count": null,
      "outputs": [
        {
          "output_type": "stream",
          "name": "stdout",
          "text": [
            "\u001b[?25l     \u001b[90m━━━━━━━━━━━━━━━━━━━━━━━━━━━━━━━━━━━━━━━━\u001b[0m \u001b[32m0.0/800.5 kB\u001b[0m \u001b[31m?\u001b[0m eta \u001b[36m-:--:--\u001b[0m\r\u001b[2K     \u001b[91m━━━━━\u001b[0m\u001b[91m╸\u001b[0m\u001b[90m━━━━━━━━━━━━━━━━━━━━━━━━━━━━━━━━━\u001b[0m \u001b[32m122.9/800.5 kB\u001b[0m \u001b[31m4.2 MB/s\u001b[0m eta \u001b[36m0:00:01\u001b[0m\r\u001b[2K     \u001b[91m━━━━━━━━━━━━━━━━━━━━━━━━━━━━━━━━━━━━━\u001b[0m\u001b[91m╸\u001b[0m \u001b[32m798.7/800.5 kB\u001b[0m \u001b[31m11.5 MB/s\u001b[0m eta \u001b[36m0:00:01\u001b[0m\r\u001b[2K     \u001b[90m━━━━━━━━━━━━━━━━━━━━━━━━━━━━━━━━━━━━━━━\u001b[0m \u001b[32m800.5/800.5 kB\u001b[0m \u001b[31m8.4 MB/s\u001b[0m eta \u001b[36m0:00:00\u001b[0m\n",
            "\u001b[?25h  Installing build dependencies ... \u001b[?25l\u001b[?25hdone\n",
            "  Getting requirements to build wheel ... \u001b[?25l\u001b[?25hdone\n",
            "  Preparing metadata (pyproject.toml) ... \u001b[?25l\u001b[?25hdone\n",
            "\u001b[2K   \u001b[90m━━━━━━━━━━━━━━━━━━━━━━━━━━━━━━━━━━━━━━━━\u001b[0m \u001b[32m54.1/54.1 MB\u001b[0m \u001b[31m20.9 MB/s\u001b[0m eta \u001b[36m0:00:00\u001b[0m\n",
            "\u001b[2K   \u001b[90m━━━━━━━━━━━━━━━━━━━━━━━━━━━━━━━━━━━━━━━━\u001b[0m \u001b[32m323.1/323.1 kB\u001b[0m \u001b[31m22.2 MB/s\u001b[0m eta \u001b[36m0:00:00\u001b[0m\n",
            "\u001b[2K   \u001b[90m━━━━━━━━━━━━━━━━━━━━━━━━━━━━━━━━━━━━━━━━\u001b[0m \u001b[32m95.2/95.2 kB\u001b[0m \u001b[31m7.1 MB/s\u001b[0m eta \u001b[36m0:00:00\u001b[0m\n",
            "\u001b[2K   \u001b[90m━━━━━━━━━━━━━━━━━━━━━━━━━━━━━━━━━━━━━━━━\u001b[0m \u001b[32m3.1/3.1 MB\u001b[0m \u001b[31m80.6 MB/s\u001b[0m eta \u001b[36m0:00:00\u001b[0m\n",
            "\u001b[2K   \u001b[90m━━━━━━━━━━━━━━━━━━━━━━━━━━━━━━━━━━━━━━━━\u001b[0m \u001b[32m11.6/11.6 MB\u001b[0m \u001b[31m93.9 MB/s\u001b[0m eta \u001b[36m0:00:00\u001b[0m\n",
            "\u001b[2K   \u001b[90m━━━━━━━━━━━━━━━━━━━━━━━━━━━━━━━━━━━━━━━━\u001b[0m \u001b[32m72.0/72.0 kB\u001b[0m \u001b[31m5.3 MB/s\u001b[0m eta \u001b[36m0:00:00\u001b[0m\n",
            "\u001b[2K   \u001b[90m━━━━━━━━━━━━━━━━━━━━━━━━━━━━━━━━━━━━━━━━\u001b[0m \u001b[32m62.5/62.5 kB\u001b[0m \u001b[31m4.6 MB/s\u001b[0m eta \u001b[36m0:00:00\u001b[0m\n",
            "\u001b[2K   \u001b[90m━━━━━━━━━━━━━━━━━━━━━━━━━━━━━━━━━━━━━━━━\u001b[0m \u001b[32m363.4/363.4 MB\u001b[0m \u001b[31m4.5 MB/s\u001b[0m eta \u001b[36m0:00:00\u001b[0m\n",
            "\u001b[2K   \u001b[90m━━━━━━━━━━━━━━━━━━━━━━━━━━━━━━━━━━━━━━━━\u001b[0m \u001b[32m13.8/13.8 MB\u001b[0m \u001b[31m100.8 MB/s\u001b[0m eta \u001b[36m0:00:00\u001b[0m\n",
            "\u001b[2K   \u001b[90m━━━━━━━━━━━━━━━━━━━━━━━━━━━━━━━━━━━━━━━━\u001b[0m \u001b[32m24.6/24.6 MB\u001b[0m \u001b[31m79.3 MB/s\u001b[0m eta \u001b[36m0:00:00\u001b[0m\n",
            "\u001b[2K   \u001b[90m━━━━━━━━━━━━━━━━━━━━━━━━━━━━━━━━━━━━━━━━\u001b[0m \u001b[32m883.7/883.7 kB\u001b[0m \u001b[31m45.3 MB/s\u001b[0m eta \u001b[36m0:00:00\u001b[0m\n",
            "\u001b[2K   \u001b[90m━━━━━━━━━━━━━━━━━━━━━━━━━━━━━━━━━━━━━━━━\u001b[0m \u001b[32m664.8/664.8 MB\u001b[0m \u001b[31m2.1 MB/s\u001b[0m eta \u001b[36m0:00:00\u001b[0m\n",
            "\u001b[2K   \u001b[90m━━━━━━━━━━━━━━━━━━━━━━━━━━━━━━━━━━━━━━━━\u001b[0m \u001b[32m211.5/211.5 MB\u001b[0m \u001b[31m6.9 MB/s\u001b[0m eta \u001b[36m0:00:00\u001b[0m\n",
            "\u001b[2K   \u001b[90m━━━━━━━━━━━━━━━━━━━━━━━━━━━━━━━━━━━━━━━━\u001b[0m \u001b[32m56.3/56.3 MB\u001b[0m \u001b[31m12.6 MB/s\u001b[0m eta \u001b[36m0:00:00\u001b[0m\n",
            "\u001b[2K   \u001b[90m━━━━━━━━━━━━━━━━━━━━━━━━━━━━━━━━━━━━━━━━\u001b[0m \u001b[32m127.9/127.9 MB\u001b[0m \u001b[31m7.5 MB/s\u001b[0m eta \u001b[36m0:00:00\u001b[0m\n",
            "\u001b[2K   \u001b[90m━━━━━━━━━━━━━━━━━━━━━━━━━━━━━━━━━━━━━━━━\u001b[0m \u001b[32m207.5/207.5 MB\u001b[0m \u001b[31m6.1 MB/s\u001b[0m eta \u001b[36m0:00:00\u001b[0m\n",
            "\u001b[2K   \u001b[90m━━━━━━━━━━━━━━━━━━━━━━━━━━━━━━━━━━━━━━━━\u001b[0m \u001b[32m21.1/21.1 MB\u001b[0m \u001b[31m76.1 MB/s\u001b[0m eta \u001b[36m0:00:00\u001b[0m\n",
            "\u001b[?25h  Building wheel for openai-whisper (pyproject.toml) ... \u001b[?25l\u001b[?25hdone\n",
            "Requirement already satisfied: gradio in /usr/local/lib/python3.11/dist-packages (5.29.1)\n",
            "Requirement already satisfied: aiofiles<25.0,>=22.0 in /usr/local/lib/python3.11/dist-packages (from gradio) (24.1.0)\n",
            "Requirement already satisfied: anyio<5.0,>=3.0 in /usr/local/lib/python3.11/dist-packages (from gradio) (4.9.0)\n",
            "Requirement already satisfied: fastapi<1.0,>=0.115.2 in /usr/local/lib/python3.11/dist-packages (from gradio) (0.115.12)\n",
            "Requirement already satisfied: ffmpy in /usr/local/lib/python3.11/dist-packages (from gradio) (0.5.0)\n",
            "Requirement already satisfied: gradio-client==1.10.1 in /usr/local/lib/python3.11/dist-packages (from gradio) (1.10.1)\n",
            "Requirement already satisfied: groovy~=0.1 in /usr/local/lib/python3.11/dist-packages (from gradio) (0.1.2)\n",
            "Requirement already satisfied: httpx>=0.24.1 in /usr/local/lib/python3.11/dist-packages (from gradio) (0.28.1)\n",
            "Requirement already satisfied: huggingface-hub>=0.28.1 in /usr/local/lib/python3.11/dist-packages (from gradio) (0.31.1)\n",
            "Requirement already satisfied: jinja2<4.0 in /usr/local/lib/python3.11/dist-packages (from gradio) (3.1.6)\n",
            "Requirement already satisfied: markupsafe<4.0,>=2.0 in /usr/local/lib/python3.11/dist-packages (from gradio) (3.0.2)\n",
            "Requirement already satisfied: numpy<3.0,>=1.0 in /usr/local/lib/python3.11/dist-packages (from gradio) (2.0.2)\n",
            "Requirement already satisfied: orjson~=3.0 in /usr/local/lib/python3.11/dist-packages (from gradio) (3.10.18)\n",
            "Requirement already satisfied: packaging in /usr/local/lib/python3.11/dist-packages (from gradio) (24.2)\n",
            "Requirement already satisfied: pandas<3.0,>=1.0 in /usr/local/lib/python3.11/dist-packages (from gradio) (2.2.2)\n",
            "Requirement already satisfied: pillow<12.0,>=8.0 in /usr/local/lib/python3.11/dist-packages (from gradio) (11.2.1)\n",
            "Requirement already satisfied: pydantic<2.12,>=2.0 in /usr/local/lib/python3.11/dist-packages (from gradio) (2.11.4)\n",
            "Requirement already satisfied: pydub in /usr/local/lib/python3.11/dist-packages (from gradio) (0.25.1)\n",
            "Requirement already satisfied: python-multipart>=0.0.18 in /usr/local/lib/python3.11/dist-packages (from gradio) (0.0.20)\n",
            "Requirement already satisfied: pyyaml<7.0,>=5.0 in /usr/local/lib/python3.11/dist-packages (from gradio) (6.0.2)\n",
            "Requirement already satisfied: ruff>=0.9.3 in /usr/local/lib/python3.11/dist-packages (from gradio) (0.11.10)\n",
            "Requirement already satisfied: safehttpx<0.2.0,>=0.1.6 in /usr/local/lib/python3.11/dist-packages (from gradio) (0.1.6)\n",
            "Requirement already satisfied: semantic-version~=2.0 in /usr/local/lib/python3.11/dist-packages (from gradio) (2.10.0)\n",
            "Requirement already satisfied: starlette<1.0,>=0.40.0 in /usr/local/lib/python3.11/dist-packages (from gradio) (0.46.2)\n",
            "Requirement already satisfied: tomlkit<0.14.0,>=0.12.0 in /usr/local/lib/python3.11/dist-packages (from gradio) (0.13.2)\n",
            "Requirement already satisfied: typer<1.0,>=0.12 in /usr/local/lib/python3.11/dist-packages (from gradio) (0.15.3)\n",
            "Requirement already satisfied: typing-extensions~=4.0 in /usr/local/lib/python3.11/dist-packages (from gradio) (4.13.2)\n",
            "Requirement already satisfied: uvicorn>=0.14.0 in /usr/local/lib/python3.11/dist-packages (from gradio) (0.34.2)\n",
            "Requirement already satisfied: fsspec in /usr/local/lib/python3.11/dist-packages (from gradio-client==1.10.1->gradio) (2025.3.2)\n",
            "Requirement already satisfied: websockets<16.0,>=10.0 in /usr/local/lib/python3.11/dist-packages (from gradio-client==1.10.1->gradio) (15.0.1)\n",
            "Requirement already satisfied: idna>=2.8 in /usr/local/lib/python3.11/dist-packages (from anyio<5.0,>=3.0->gradio) (3.10)\n",
            "Requirement already satisfied: sniffio>=1.1 in /usr/local/lib/python3.11/dist-packages (from anyio<5.0,>=3.0->gradio) (1.3.1)\n",
            "Requirement already satisfied: certifi in /usr/local/lib/python3.11/dist-packages (from httpx>=0.24.1->gradio) (2025.4.26)\n",
            "Requirement already satisfied: httpcore==1.* in /usr/local/lib/python3.11/dist-packages (from httpx>=0.24.1->gradio) (1.0.9)\n",
            "Requirement already satisfied: h11>=0.16 in /usr/local/lib/python3.11/dist-packages (from httpcore==1.*->httpx>=0.24.1->gradio) (0.16.0)\n",
            "Requirement already satisfied: filelock in /usr/local/lib/python3.11/dist-packages (from huggingface-hub>=0.28.1->gradio) (3.18.0)\n",
            "Requirement already satisfied: requests in /usr/local/lib/python3.11/dist-packages (from huggingface-hub>=0.28.1->gradio) (2.32.3)\n",
            "Requirement already satisfied: tqdm>=4.42.1 in /usr/local/lib/python3.11/dist-packages (from huggingface-hub>=0.28.1->gradio) (4.67.1)\n",
            "Requirement already satisfied: hf-xet<2.0.0,>=1.1.0 in /usr/local/lib/python3.11/dist-packages (from huggingface-hub>=0.28.1->gradio) (1.1.0)\n",
            "Requirement already satisfied: python-dateutil>=2.8.2 in /usr/local/lib/python3.11/dist-packages (from pandas<3.0,>=1.0->gradio) (2.9.0.post0)\n",
            "Requirement already satisfied: pytz>=2020.1 in /usr/local/lib/python3.11/dist-packages (from pandas<3.0,>=1.0->gradio) (2025.2)\n",
            "Requirement already satisfied: tzdata>=2022.7 in /usr/local/lib/python3.11/dist-packages (from pandas<3.0,>=1.0->gradio) (2025.2)\n",
            "Requirement already satisfied: annotated-types>=0.6.0 in /usr/local/lib/python3.11/dist-packages (from pydantic<2.12,>=2.0->gradio) (0.7.0)\n",
            "Requirement already satisfied: pydantic-core==2.33.2 in /usr/local/lib/python3.11/dist-packages (from pydantic<2.12,>=2.0->gradio) (2.33.2)\n",
            "Requirement already satisfied: typing-inspection>=0.4.0 in /usr/local/lib/python3.11/dist-packages (from pydantic<2.12,>=2.0->gradio) (0.4.0)\n",
            "Requirement already satisfied: click>=8.0.0 in /usr/local/lib/python3.11/dist-packages (from typer<1.0,>=0.12->gradio) (8.1.8)\n",
            "Requirement already satisfied: shellingham>=1.3.0 in /usr/local/lib/python3.11/dist-packages (from typer<1.0,>=0.12->gradio) (1.5.4)\n",
            "Requirement already satisfied: rich>=10.11.0 in /usr/local/lib/python3.11/dist-packages (from typer<1.0,>=0.12->gradio) (13.9.4)\n",
            "Requirement already satisfied: six>=1.5 in /usr/local/lib/python3.11/dist-packages (from python-dateutil>=2.8.2->pandas<3.0,>=1.0->gradio) (1.17.0)\n",
            "Requirement already satisfied: markdown-it-py>=2.2.0 in /usr/local/lib/python3.11/dist-packages (from rich>=10.11.0->typer<1.0,>=0.12->gradio) (3.0.0)\n",
            "Requirement already satisfied: pygments<3.0.0,>=2.13.0 in /usr/local/lib/python3.11/dist-packages (from rich>=10.11.0->typer<1.0,>=0.12->gradio) (2.19.1)\n",
            "Requirement already satisfied: charset-normalizer<4,>=2 in /usr/local/lib/python3.11/dist-packages (from requests->huggingface-hub>=0.28.1->gradio) (3.4.2)\n",
            "Requirement already satisfied: urllib3<3,>=1.21.1 in /usr/local/lib/python3.11/dist-packages (from requests->huggingface-hub>=0.28.1->gradio) (2.4.0)\n",
            "Requirement already satisfied: mdurl~=0.1 in /usr/local/lib/python3.11/dist-packages (from markdown-it-py>=2.2.0->rich>=10.11.0->typer<1.0,>=0.12->gradio) (0.1.2)\n"
          ]
        }
      ]
    },
    {
      "cell_type": "code",
      "source": [
        "import gradio as gr\n",
        "import torch\n",
        "import numpy as np\n",
        "import librosa\n",
        "import time\n",
        "import os\n",
        "\n",
        "#Whisper for ASR\n",
        "import whisper\n",
        "\n",
        "# gTTS for text-to-speech\n",
        "from gtts import gTTS\n",
        "\n",
        "# Hugging Face Transformers for audio embeddings\n",
        "from transformers import Wav2Vec2FeatureExtractor, Wav2Vec2Model\n",
        "\n",
        "# fuzzy string matching for text similarity\n",
        "from thefuzz import fuzz\n",
        "\n",
        "# cosine similarity function to make the evaluations\n",
        "from sklearn.metrics.pairwise import cosine_similarity\n",
        "\n",
        "# for checking if GPU is available\n",
        "DEVICE = \"cuda\" if torch.cuda.is_available() else \"cpu\"\n",
        "print(f\"Using device: {DEVICE}\")"
      ],
      "metadata": {
        "colab": {
          "base_uri": "https://localhost:8080/"
        },
        "id": "yB7G78pc3lpI",
        "outputId": "87c9cd71-2c9b-4e2a-b10d-060139e2d3ff"
      },
      "execution_count": null,
      "outputs": [
        {
          "output_type": "stream",
          "name": "stdout",
          "text": [
            "Using device: cpu\n"
          ]
        }
      ]
    },
    {
      "cell_type": "markdown",
      "source": [
        "# Models Initialization"
      ],
      "metadata": {
        "id": "k1KmQPi3n8Qn"
      }
    },
    {
      "cell_type": "code",
      "source": [
        "# Loading Whisper's base model for efficiency (it can produce errors for unused words in languages other than English)\n",
        "whisper_model = whisper.load_model(\"base\", device=DEVICE)\n",
        "\n",
        "# Loading Wav2Vec2 model for doing the audio embeddings\n",
        "wav2vec_model_name = \"facebook/wav2vec2-large-xlsr-53\"\n",
        "feature_extractor = Wav2Vec2FeatureExtractor.from_pretrained(wav2vec_model_name)\n",
        "wav2vec_model = Wav2Vec2Model.from_pretrained(wav2vec_model_name).to(DEVICE)\n",
        "wav2vec_model.eval()\n",
        "\n",
        "# Create a directory for temporary audio files if it doesn't exist\n",
        "os.makedirs(\"temp_audio\", exist_ok=True)"
      ],
      "metadata": {
        "id": "7kJHAVjdaPLh",
        "colab": {
          "base_uri": "https://localhost:8080/",
          "height": 273,
          "referenced_widgets": [
            "6befa101420541b7b7c6fe010ea05ee2",
            "1c180a032e7a4b3681340e418aae766d",
            "9f9dac550368420ebd7e786d1afd824a",
            "077821eab059459db8b5da5bbbc07bf2",
            "aa145411e5cc422bb7a7b818d80591d3",
            "0bfac23052c54ad6ba3c8c4675e24b3a",
            "353df81fbd3e47cbad9c302ef5a54d9b",
            "008db2098e2e4e23bc82842f2a9e2346",
            "ff703210a8bc430a9142b4c49bfc1d48",
            "c71f51ae45bc4fbbad4ffe6e79bf43b6",
            "a861f404938e4964b118a40fb1bad5c3",
            "6423388385a54bd5b325fed5b5cbbd46",
            "e682c5d0a20349948e3ffd0e4e7a5d6d",
            "82a32d7079b84aaebb2d5d5c74ba5968",
            "8cbf30c1631a4ff49583422d4029995f",
            "a0659b74e0be414ba1d037ab972bfb10",
            "9c18d485a2d242138f9b3f9c8006b4c9",
            "94ad942a215a433e8a011335875835c7",
            "22447240f56c4a2d8251b3604c4b499a",
            "099cafaea0bf482dbb55ac6d47008c69",
            "f95745e09a8a4d51a8d0a8c15c063426",
            "7ff5faa9726c480fb09bc724d106574d",
            "7c09a765e0b1440cb78004d97ae55c0f",
            "1a61251d881a499896e2f7c83dd854a3",
            "acf38b55eaa14b05b2281e638f3a06fb",
            "ef709ded5859461fb7f3f8b42ea3d1d9",
            "1cd3ca74acee40b59efaf0041d0661e1",
            "72e45a78adb4462c91bea1386a7a221f",
            "a9531fb8570a40ebaa5abe56f21c47d4",
            "88e167d8b6b54a4998ab4a8f583425e4",
            "5d43ad80c6fc4e5587abbf81bc0abc6e",
            "a3c765ae6a1345ed912d48f2ee9b81a9",
            "7001628555f34444b4aa530475bcd99b",
            "d888aa7dc1ec4f2b850c6449dc54edad",
            "3d356ef85dcb47119fbe513a31f6b31f",
            "b0fbbc6d819541efa664cc5ba8268f0f",
            "ff7144bb493d4155a7412fcfbe56e778",
            "30c7404ed6b24262b401504f553f8712",
            "e99f45dffb3643f294549211b7718c5e",
            "847aeeec41be40bfa016e27c5cf349e1",
            "903a5b8cd7814053aa302a4357f0da99",
            "ca5feffef783402cbef86e55bb5ba7fc",
            "3cb7ff4d0adf43d48cf0e0c53f8a20b8",
            "b236c9c01ad545608a8c95e598990a96"
          ]
        },
        "outputId": "461c1a97-b5a9-4b0f-a8dd-078992890023"
      },
      "execution_count": null,
      "outputs": [
        {
          "output_type": "stream",
          "name": "stderr",
          "text": [
            "100%|████████████████████████████████████████| 139M/139M [00:01<00:00, 137MiB/s]\n",
            "/usr/local/lib/python3.11/dist-packages/huggingface_hub/utils/_auth.py:94: UserWarning: \n",
            "The secret `HF_TOKEN` does not exist in your Colab secrets.\n",
            "To authenticate with the Hugging Face Hub, create a token in your settings tab (https://huggingface.co/settings/tokens), set it as secret in your Google Colab and restart your session.\n",
            "You will be able to reuse this secret in all of your notebooks.\n",
            "Please note that authentication is recommended but still optional to access public models or datasets.\n",
            "  warnings.warn(\n"
          ]
        },
        {
          "output_type": "display_data",
          "data": {
            "text/plain": [
              "preprocessor_config.json:   0%|          | 0.00/212 [00:00<?, ?B/s]"
            ],
            "application/vnd.jupyter.widget-view+json": {
              "version_major": 2,
              "version_minor": 0,
              "model_id": "6befa101420541b7b7c6fe010ea05ee2"
            }
          },
          "metadata": {}
        },
        {
          "output_type": "display_data",
          "data": {
            "text/plain": [
              "config.json:   0%|          | 0.00/1.77k [00:00<?, ?B/s]"
            ],
            "application/vnd.jupyter.widget-view+json": {
              "version_major": 2,
              "version_minor": 0,
              "model_id": "6423388385a54bd5b325fed5b5cbbd46"
            }
          },
          "metadata": {}
        },
        {
          "output_type": "display_data",
          "data": {
            "text/plain": [
              "pytorch_model.bin:   0%|          | 0.00/1.27G [00:00<?, ?B/s]"
            ],
            "application/vnd.jupyter.widget-view+json": {
              "version_major": 2,
              "version_minor": 0,
              "model_id": "7c09a765e0b1440cb78004d97ae55c0f"
            }
          },
          "metadata": {}
        },
        {
          "output_type": "display_data",
          "data": {
            "text/plain": [
              "model.safetensors:   0%|          | 0.00/1.27G [00:00<?, ?B/s]"
            ],
            "application/vnd.jupyter.widget-view+json": {
              "version_major": 2,
              "version_minor": 0,
              "model_id": "d888aa7dc1ec4f2b850c6449dc54edad"
            }
          },
          "metadata": {}
        }
      ]
    },
    {
      "cell_type": "markdown",
      "source": [
        "# Temporary directory for saving audio files"
      ],
      "metadata": {
        "id": "shQrfZG0oDTl"
      }
    },
    {
      "cell_type": "code",
      "source": [
        "os.makedirs(\"temp_audio\", exist_ok=True)\n",
        "\n",
        "def generate_reference_audio(text, lang):\n",
        "    \"\"\"\n",
        "    Convert the reference text to speech audio using Google TTS (or alternative TTS for the given language).\n",
        "    Returns the file path of the generated audio and stores state (path and text).\n",
        "    \"\"\"\n",
        "    if not text or not text.strip():\n",
        "        raise gr.Error(\"Please enter a reference text.\")\n",
        "    # Use current time to generate unique filename\n",
        "    timestamp = int(time.time())\n",
        "    output_path = f\"temp_audio/ref_{lang}_{timestamp}.mp3\"\n",
        "    try:\n",
        "        tts = gTTS(text=text, lang=lang)\n",
        "        tts.save(output_path)\n",
        "    except Exception as e:\n",
        "        # If gTTS fails (e.g., no internet or unsupported language), raise error\n",
        "        raise gr.Error(f\"Failed to generate reference audio. ({str(e)})\")\n",
        "    # Double-check file creation\n",
        "    if not os.path.exists(output_path):\n",
        "        raise gr.Error(\"Audio generation failed (file not found).\")\n",
        "    return output_path, output_path, text  # return file path for audio player, and state values\n"
      ],
      "metadata": {
        "id": "6MTifRPjEDnn"
      },
      "execution_count": null,
      "outputs": []
    },
    {
      "cell_type": "code",
      "source": [
        "def generate_reference_audio(text, lang):\n",
        "    \"\"\"\n",
        "    Convert the provided text to speech audio using Google TTS.\n",
        "    Returns the file path of the generated audio.\n",
        "    \"\"\"\n",
        "    if not text or not text.strip():\n",
        "        raise gr.Error(\"Please enter a reference text.\")\n",
        "\n",
        "    timestamp = int(time.time())\n",
        "    output_path = f\"temp_audio/ref_{lang}_{timestamp}.mp3\"\n",
        "    try:\n",
        "        tts = gTTS(text=text, lang=lang)\n",
        "        tts.save(output_path)\n",
        "    except Exception as e:\n",
        "        raise gr.Error(f\"Failed to generate reference audio. ({str(e)})\")\n",
        "\n",
        "    if not os.path.exists(output_path):\n",
        "        raise gr.Error(\"Audio generation failed (file not found).\")\n",
        "\n",
        "    # Return the path for the audio player and store state values\n",
        "    return output_path, output_path, text"
      ],
      "metadata": {
        "id": "03oe_3HIaTrR"
      },
      "execution_count": null,
      "outputs": []
    },
    {
      "cell_type": "code",
      "source": [
        "def get_embedding(audio_path):\n",
        "    \"\"\"\n",
        "    Compute an audio embedding for the given audio file using Wav2Vec2.\n",
        "    Returns a normalized 1D numpy array representing the audio.\n",
        "    \"\"\"\n",
        "    speech, sr = librosa.load(audio_path, sr=16000)\n",
        "    inputs = feature_extractor(speech, sampling_rate=sr, return_tensors=\"pt\", padding=True)\n",
        "    inputs = {k: v.to(DEVICE) for k, v in inputs.items()}\n",
        "    with torch.inference_mode():\n",
        "        outputs = wav2vec_model(**inputs)\n",
        "    # Average the hidden states to get a single feature vector\n",
        "    emb = outputs.last_hidden_state.mean(dim=1).cpu().numpy()\n",
        "    # Normalize the embedding vector\n",
        "    emb = emb / np.linalg.norm(emb, axis=1, keepdims=True)\n",
        "    return emb"
      ],
      "metadata": {
        "id": "1iIyk2vpb6k4"
      },
      "execution_count": null,
      "outputs": []
    },
    {
      "cell_type": "code",
      "source": [
        "def analyze_pronunciation(user_audio, ref_audio_path, ref_text, lang):\n",
        "    \"\"\"\n",
        "    Analyze the user's pronunciation by comparing ASR text transcription and audio similarity.\n",
        "    Returns a result message with scores, warnings, and the transcribed text.\n",
        "    \"\"\"\n",
        "    # Handle input formats (if stored in tuples)\n",
        "    user_path = user_audio[0] if isinstance(user_audio, tuple) else user_audio\n",
        "    ref_path = ref_audio_path[0] if isinstance(ref_audio_path, tuple) else ref_audio_path\n",
        "\n",
        "    if not ref_text or not os.path.exists(ref_path):\n",
        "        return \"Error: Please provide reference text and generate reference audio first.\", \"\", \"\"\n",
        "    if not user_path or not os.path.exists(user_path):\n",
        "        return \"Error: Please record your pronunciation audio.\", \"\", \"\"\n",
        "\n",
        "    try:\n",
        "        # Transcribe user audio with Whisper (explicitly specify language)\n",
        "        transcription = whisper_model.transcribe(user_path, language=lang if lang else None)\n",
        "        user_transcript = transcription[\"text\"]\n",
        "    except Exception as e:\n",
        "        return f\"Analysis Error: Failed to transcribe audio ({str(e)}).\", \"\", \"\"\n",
        "\n",
        "    # Compute text similarity (using fuzzy matching)\n",
        "    text_sim = fuzz.ratio(user_transcript.lower().strip(), ref_text.lower().strip()) / 100.0\n",
        "\n",
        "    try:\n",
        "        # Compute audio embeddings and cosine similarity score\n",
        "        user_emb = get_embedding(user_path)\n",
        "        ref_emb = get_embedding(ref_path)\n",
        "        audio_sim = cosine_similarity(user_emb, ref_emb)[0][0]\n",
        "        audio_sim = max(0.0, min(1.0, audio_sim))  # Clamp the score to [0, 1]\n",
        "    except Exception as e:\n",
        "        return f\"Analysis Error: Audio embedding failed ({str(e)}).\", \"\", user_transcript\n",
        "\n",
        "    # Weighted scoring: emphasizing text similarity more than audio\n",
        "    final_score = (0.7 * text_sim) + (0.3 * audio_sim)\n",
        "\n",
        "    # Prepare result display\n",
        "    result_lines = [\n",
        "        f\" **Text Match:** {text_sim:.2%}\",\n",
        "        f\" **Audio Similarity:** {audio_sim:.2%}\",\n",
        "        f\" **Overall Score:** {final_score:.2%}\"\n",
        "    ]\n",
        "    result_msg = \"\\n\".join(result_lines)\n",
        "\n",
        "    warnings_list = []\n",
        "    if text_sim < 0.70:\n",
        "        warnings_list.append(\"⚠️ The spoken text differs significantly from the reference.\")\n",
        "    if text_sim >= 0.70 and audio_sim < 0.50:\n",
        "        warnings_list.append(\"⚠️ Pronunciation pattern is quite different from the reference.\")\n",
        "\n",
        "    warning_msg = \"\\n\".join(warnings_list)\n",
        "\n",
        "    return result_msg, warning_msg, user_transcript"
      ],
      "metadata": {
        "id": "jMbXRFNtaVx7"
      },
      "execution_count": null,
      "outputs": []
    },
    {
      "cell_type": "markdown",
      "source": [
        "# Lauching"
      ],
      "metadata": {
        "id": "xALIprJ8oTwJ"
      }
    },
    {
      "cell_type": "code",
      "source": [
        "with gr.Blocks() as demo:\n",
        "    gr.Markdown(\"## Multilingual Pronunciation Practice\\n\"\n",
        "                \"Enter a phrase in your target language, generate its reference audio, then record (or upload) your pronunciation for analysis.\")\n",
        "\n",
        "    # States to store the generated reference audio path and text\n",
        "    ref_audio_state = gr.State()\n",
        "    ref_text_state = gr.State()\n",
        "\n",
        "    with gr.Row():\n",
        "        with gr.Column():\n",
        "            language = gr.Dropdown(label=\"Language\", choices=[\"ru\", \"en\", \"es\", \"fr\", \"de\", \"zh\"], value=\"ru\",\n",
        "                                   info=\"Select the language (affects both TTS and ASR)\")\n",
        "            ref_text_input = gr.Textbox(label=\"Reference Text\", lines=3, placeholder=\"Enter the phrase to practice...\")\n",
        "            generate_btn = gr.Button(\" Generate Reference Audio\")\n",
        "            ref_audio_player = gr.Audio(label=\"Reference Audio\", interactive=False)\n",
        "        with gr.Column():\n",
        "            # Removed the `source` parameter to avoid compatibility errors.\n",
        "            user_audio_input = gr.Audio(label=\"Your Pronunciation (Record or Upload)\", type=\"filepath\")\n",
        "            analyze_btn = gr.Button(\" Analyze Pronunciation\")\n",
        "            result_box = gr.Textbox(label=\"Results\", lines=3)\n",
        "            warnings_box = gr.Textbox(label=\"Warnings\", lines=2)\n",
        "            transcript_box = gr.Textbox(label=\"Transcript of Your Speech\", lines=2)\n",
        "\n",
        "    # Set up component interactions\n",
        "    generate_btn.click(\n",
        "        fn=generate_reference_audio,\n",
        "        inputs=[ref_text_input, language],\n",
        "        outputs=[ref_audio_player, ref_audio_state, ref_text_state]\n",
        "    )\n",
        "\n",
        "    analyze_btn.click(\n",
        "        fn=analyze_pronunciation,\n",
        "        inputs=[user_audio_input, ref_audio_state, ref_text_state, language],\n",
        "        outputs=[result_box, warnings_box, transcript_box]\n",
        "    )\n",
        "\n",
        "demo.launch()\n"
      ],
      "metadata": {
        "colab": {
          "base_uri": "https://localhost:8080/",
          "height": 650
        },
        "id": "TIrKkCHbaYa5",
        "outputId": "fa23eadd-f232-4c45-e3ce-dd85fdb3875f"
      },
      "execution_count": null,
      "outputs": [
        {
          "output_type": "stream",
          "name": "stdout",
          "text": [
            "It looks like you are running Gradio on a hosted a Jupyter notebook. For the Gradio app to work, sharing must be enabled. Automatically setting `share=True` (you can turn this off by setting `share=False` in `launch()` explicitly).\n",
            "\n",
            "Colab notebook detected. To show errors in colab notebook, set debug=True in launch()\n",
            "* Running on public URL: https://d6ca4ffdba7974eb8f.gradio.live\n",
            "\n",
            "This share link expires in 1 week. For free permanent hosting and GPU upgrades, run `gradio deploy` from the terminal in the working directory to deploy to Hugging Face Spaces (https://huggingface.co/spaces)\n"
          ]
        },
        {
          "output_type": "display_data",
          "data": {
            "text/plain": [
              "<IPython.core.display.HTML object>"
            ],
            "text/html": [
              "<div><iframe src=\"https://d6ca4ffdba7974eb8f.gradio.live\" width=\"100%\" height=\"500\" allow=\"autoplay; camera; microphone; clipboard-read; clipboard-write;\" frameborder=\"0\" allowfullscreen></iframe></div>"
            ]
          },
          "metadata": {}
        },
        {
          "output_type": "execute_result",
          "data": {
            "text/plain": []
          },
          "metadata": {},
          "execution_count": 8
        }
      ]
    },
    {
      "cell_type": "markdown",
      "metadata": {
        "id": "7e7848e0"
      },
      "source": [
        "# Task\n",
        "Write a README file for the project based on the provided plan."
      ]
    },
    {
      "cell_type": "markdown",
      "metadata": {
        "id": "a2e6d6c3"
      },
      "source": [
        "## Project description\n",
        "\n",
        "### Subtask:\n",
        "Write a brief description of the project, explaining its purpose and functionality.\n"
      ]
    },
    {
      "cell_type": "markdown",
      "metadata": {
        "id": "e2105530"
      },
      "source": [
        "**Reasoning**:\n",
        "I need to write a brief description of the project based on the instructions. This will be a markdown text block.\n",
        "\n"
      ]
    },
    {
      "cell_type": "code",
      "metadata": {
        "colab": {
          "base_uri": "https://localhost:8080/",
          "height": 165
        },
        "id": "206c7c98",
        "outputId": "666b4d52-8c87-4413-fc77-794e6259b37a"
      },
      "source": [
        "```markdown\n",
        "# Multilingual Pronunciation Practice Tool\n",
        "\n",
        "This project is a web-based tool designed to help users practice and improve their pronunciation in various languages. It allows users to input a phrase in their target language, generate a reference audio using text-to-speech, and then record or upload their own pronunciation to receive feedback. The tool analyzes the user's speech by comparing the transcribed text and the audio features against the reference, providing scores for text match and audio similarity, along with potential warnings."
      ],
      "execution_count": 1,
      "outputs": [
        {
          "output_type": "error",
          "ename": "SyntaxError",
          "evalue": "unterminated string literal (detected at line 4) (ipython-input-3172811316.py, line 4)",
          "traceback": [
            "\u001b[0;36m  File \u001b[0;32m\"/tmp/ipython-input-3172811316.py\"\u001b[0;36m, line \u001b[0;32m4\u001b[0m\n\u001b[0;31m    This project is a web-based tool designed to help users practice and improve their pronunciation in various languages. It allows users to input a phrase in their target language, generate a reference audio using text-to-speech, and then record or upload their own pronunciation to receive feedback. The tool analyzes the user's speech by comparing the transcribed text and the audio features against the reference, providing scores for text match and audio similarity, along with potential warnings.\u001b[0m\n\u001b[0m                                                                                                                                                                                                                                                                                                                                         ^\u001b[0m\n\u001b[0;31mSyntaxError\u001b[0m\u001b[0;31m:\u001b[0m unterminated string literal (detected at line 4)\n"
          ]
        }
      ]
    },
    {
      "cell_type": "markdown",
      "metadata": {
        "id": "dfff1493"
      },
      "source": [
        "**Reasoning**:\n",
        "The previous command failed because the markdown text was not properly enclosed within a Python string in the code block. I need to correct the markdown formatting within the Python code block.\n",
        "\n"
      ]
    },
    {
      "cell_type": "code",
      "metadata": {
        "colab": {
          "base_uri": "https://localhost:8080/"
        },
        "id": "vjWRlJLDdSJi",
        "outputId": "195a023c-40f0-44e2-8f0f-d4fcf7250e17"
      },
      "source": [
        "markdown_description = \"\"\"\n",
        "# Multilingual Pronunciation Practice Tool\n",
        "\n",
        "This project is a web-based tool designed to help users practice and improve their pronunciation in various languages. It allows users to input a phrase in their target language, generate a reference audio using text-to-speech, and then record or upload their own pronunciation to receive feedback. The tool analyzes the user's speech by comparing the transcribed text and the audio features against the reference, providing scores for text match and audio similarity, along with potential warnings.\n",
        "\"\"\"\n",
        "print(markdown_description)"
      ],
      "execution_count": 2,
      "outputs": [
        {
          "output_type": "stream",
          "name": "stdout",
          "text": [
            "\n",
            "# Multilingual Pronunciation Practice Tool\n",
            "\n",
            "This project is a web-based tool designed to help users practice and improve their pronunciation in various languages. It allows users to input a phrase in their target language, generate a reference audio using text-to-speech, and then record or upload their own pronunciation to receive feedback. The tool analyzes the user's speech by comparing the transcribed text and the audio features against the reference, providing scores for text match and audio similarity, along with potential warnings.\n",
            "\n"
          ]
        }
      ]
    },
    {
      "cell_type": "markdown",
      "metadata": {
        "id": "ad043c6d"
      },
      "source": [
        "## Setup instructions\n",
        "\n",
        "### Subtask:\n",
        "Detail the steps required to set up and run the project, including dependencies and installation commands.\n"
      ]
    },
    {
      "cell_type": "markdown",
      "metadata": {
        "id": "b5143cc2"
      },
      "source": [
        "**Reasoning**:\n",
        "I will create a markdown string containing the \"Setup and Installation\" section with subsections for \"Dependencies\", \"Installation\", and \"Running the Application\", as requested in the instructions. This will fulfill all the requirements of the subtask in a single step.\n",
        "\n"
      ]
    },
    {
      "cell_type": "code",
      "metadata": {
        "colab": {
          "base_uri": "https://localhost:8080/"
        },
        "id": "ec0582a4",
        "outputId": "91e2bcd7-6af7-4874-ce72-524b4406ebda"
      },
      "source": [
        "markdown_setup = \"\"\"\n",
        "## Setup and Installation\n",
        "\n",
        "### Dependencies\n",
        "This project requires the following Python libraries:\n",
        "- `openai-whisper`\n",
        "- `gradio`\n",
        "- `thefuzz`\n",
        "- `gtts`\n",
        "- `librosa`\n",
        "- `transformers`\n",
        "- `torch`\n",
        "- `numpy`\n",
        "- `scikit-learn`\n",
        "\n",
        "### Installation\n",
        "You can install all the required dependencies using pip:\n",
        "```bash\n",
        "pip install -q openai-whisper gradio thefuzz gtts librosa transformers torch numpy scikit-learn\n",
        "```\n",
        "\n",
        "### Running the Application\n",
        "To run the application, execute the Python script containing the Gradio interface. The script will launch a web server and provide a URL where you can access the tool.\n",
        "\"\"\"\n",
        "print(markdown_setup)"
      ],
      "execution_count": 3,
      "outputs": [
        {
          "output_type": "stream",
          "name": "stdout",
          "text": [
            "\n",
            "## Setup and Installation\n",
            "\n",
            "### Dependencies\n",
            "This project requires the following Python libraries:\n",
            "- `openai-whisper`\n",
            "- `gradio`\n",
            "- `thefuzz`\n",
            "- `gtts`\n",
            "- `librosa`\n",
            "- `transformers`\n",
            "- `torch`\n",
            "- `numpy`\n",
            "- `scikit-learn`\n",
            "\n",
            "### Installation\n",
            "You can install all the required dependencies using pip:\n",
            "```bash\n",
            "pip install -q openai-whisper gradio thefuzz gtts librosa transformers torch numpy scikit-learn\n",
            "```\n",
            "\n",
            "### Running the Application\n",
            "To run the application, execute the Python script containing the Gradio interface. The script will launch a web server and provide a URL where you can access the tool.\n",
            "\n"
          ]
        }
      ]
    },
    {
      "cell_type": "markdown",
      "metadata": {
        "id": "f44a65f8"
      },
      "source": [
        "## Usage guide\n",
        "\n",
        "### Subtask:\n",
        "Explain how to use the Gradio interface, including how to generate reference audio and analyze pronunciation.\n"
      ]
    },
    {
      "cell_type": "markdown",
      "metadata": {
        "id": "2a0fc991"
      },
      "source": [
        "**Reasoning**:\n",
        "Create the markdown section for usage, including subsections for generating reference audio and analyzing pronunciation, following the specified steps.\n",
        "\n"
      ]
    },
    {
      "cell_type": "code",
      "metadata": {
        "colab": {
          "base_uri": "https://localhost:8080/"
        },
        "id": "66ac466e",
        "outputId": "f224c012-cae1-452e-9c8b-28bd94ffa46a"
      },
      "source": [
        "markdown_usage = \"\"\"\n",
        "## Usage\n",
        "\n",
        "### Generating Reference Audio\n",
        "1.  Enter the desired text in the \"Reference Text\" box.\n",
        "2.  Select the language from the \"Language\" dropdown.\n",
        "3.  Click the \"Generate Reference Audio\" button.\n",
        "4.  The generated audio will appear in the \"Reference Audio\" player.\n",
        "\n",
        "### Analyzing Your Pronunciation\n",
        "1.  Record your pronunciation using the microphone or upload an audio file in the \"Your Pronunciation\" box.\n",
        "2.  Click the \"Analyze Pronunciation\" button.\n",
        "3.  The results, including scores, warnings, and transcript, will appear in the \"Results\", \"Warnings\", and \"Transcript of Your Speech\" boxes respectively.\n",
        "\"\"\"\n",
        "print(markdown_usage)"
      ],
      "execution_count": 4,
      "outputs": [
        {
          "output_type": "stream",
          "name": "stdout",
          "text": [
            "\n",
            "## Usage\n",
            "\n",
            "### Generating Reference Audio\n",
            "1.  Enter the desired text in the \"Reference Text\" box.\n",
            "2.  Select the language from the \"Language\" dropdown.\n",
            "3.  Click the \"Generate Reference Audio\" button.\n",
            "4.  The generated audio will appear in the \"Reference Audio\" player.\n",
            "\n",
            "### Analyzing Your Pronunciation\n",
            "1.  Record your pronunciation using the microphone or upload an audio file in the \"Your Pronunciation\" box.\n",
            "2.  Click the \"Analyze Pronunciation\" button.\n",
            "3.  The results, including scores, warnings, and transcript, will appear in the \"Results\", \"Warnings\", and \"Transcript of Your Speech\" boxes respectively.\n",
            "\n"
          ]
        }
      ]
    },
    {
      "cell_type": "markdown",
      "metadata": {
        "id": "3a12fd7b"
      },
      "source": [
        "## Code explanation\n",
        "\n",
        "### Subtask:\n",
        "Provide a high-level overview of the code, explaining the main functions and their roles.\n"
      ]
    },
    {
      "cell_type": "markdown",
      "metadata": {
        "id": "fd957ca6"
      },
      "source": [
        "**Reasoning**:\n",
        "Create a markdown section for code explanation, explaining the purpose of the main functions based on the provided code.\n",
        "\n"
      ]
    },
    {
      "cell_type": "code",
      "metadata": {
        "colab": {
          "base_uri": "https://localhost:8080/"
        },
        "id": "e45b5c51",
        "outputId": "dd5ddffb-4db7-4eb6-858f-c13bcad0abed"
      },
      "source": [
        "markdown_code_explanation = \"\"\"\n",
        "## Code Explanation\n",
        "\n",
        "-   `generate_reference_audio(text, lang)`: This function takes the reference text and language as input, uses Google TTS to convert the text into speech, saves the audio to a temporary file, and returns the file path and the input text and path as state variables.\n",
        "-   `get_embedding(audio_path)`: This function takes the path to an audio file, loads it using `librosa`, processes it with the Wav2Vec2 feature extractor and model to obtain audio embeddings, and returns a normalized 1D numpy array representing the audio's features.\n",
        "-   `analyze_pronunciation(user_audio, ref_audio_path, ref_text, lang)`: This is the core analysis function. It takes the user's recorded audio, the path to the generated reference audio, the original reference text, and the language. It first transcribes the user's audio using Whisper, then calculates text similarity between the transcription and the reference text using fuzzy matching. It also calculates audio similarity by comparing the embeddings of the user's audio and the reference audio using cosine similarity. Finally, it computes a weighted overall score, generates result messages and warnings based on the scores, and returns them along with the user's transcription.\n",
        "\"\"\"\n",
        "print(markdown_code_explanation)"
      ],
      "execution_count": 5,
      "outputs": [
        {
          "output_type": "stream",
          "name": "stdout",
          "text": [
            "\n",
            "## Code Explanation\n",
            "\n",
            "-   `generate_reference_audio(text, lang)`: This function takes the reference text and language as input, uses Google TTS to convert the text into speech, saves the audio to a temporary file, and returns the file path and the input text and path as state variables.\n",
            "-   `get_embedding(audio_path)`: This function takes the path to an audio file, loads it using `librosa`, processes it with the Wav2Vec2 feature extractor and model to obtain audio embeddings, and returns a normalized 1D numpy array representing the audio's features.\n",
            "-   `analyze_pronunciation(user_audio, ref_audio_path, ref_text, lang)`: This is the core analysis function. It takes the user's recorded audio, the path to the generated reference audio, the original reference text, and the language. It first transcribes the user's audio using Whisper, then calculates text similarity between the transcription and the reference text using fuzzy matching. It also calculates audio similarity by comparing the embeddings of the user's audio and the reference audio using cosine similarity. Finally, it computes a weighted overall score, generates result messages and warnings based on the scores, and returns them along with the user's transcription.\n",
            "\n"
          ]
        }
      ]
    },
    {
      "cell_type": "markdown",
      "metadata": {
        "id": "36ce693e"
      },
      "source": [
        "## Dependencies\n",
        "\n",
        "### Subtask:\n",
        "List the required Python libraries and their versions.\n"
      ]
    },
    {
      "cell_type": "markdown",
      "metadata": {
        "id": "6d518318"
      },
      "source": [
        "**Reasoning**:\n",
        "Create a markdown string for the \"Dependencies\" section, listing the required libraries and their versions based on the pip install command and common practices.\n",
        "\n"
      ]
    },
    {
      "cell_type": "code",
      "metadata": {
        "colab": {
          "base_uri": "https://localhost:8080/"
        },
        "id": "9dc9ea4a",
        "outputId": "75b4429b-3378-40c0-be75-57e4bd88f605"
      },
      "source": [
        "markdown_dependencies = \"\"\"\n",
        "## Dependencies\n",
        "\n",
        "This project requires the following Python libraries:\n",
        "- `openai-whisper`\n",
        "- `gradio`\n",
        "- `thefuzz`\n",
        "- `gtts`\n",
        "- `librosa`\n",
        "- `transformers`\n",
        "- `torch`\n",
        "- `numpy`\n",
        "- `scikit-learn`\n",
        "\n",
        "\"\"\"\n",
        "print(markdown_dependencies)"
      ],
      "execution_count": 6,
      "outputs": [
        {
          "output_type": "stream",
          "name": "stdout",
          "text": [
            "\n",
            "## Dependencies\n",
            "\n",
            "This project requires the following Python libraries:\n",
            "- `openai-whisper`\n",
            "- `gradio`\n",
            "- `thefuzz`\n",
            "- `gtts`\n",
            "- `librosa`\n",
            "- `transformers`\n",
            "- `torch`\n",
            "- `numpy`\n",
            "- `scikit-learn`\n",
            "\n",
            "\n"
          ]
        }
      ]
    },
    {
      "cell_type": "markdown",
      "metadata": {
        "id": "8958d2c6"
      },
      "source": [
        "## Future improvements (optional)\n",
        "\n",
        "### Subtask:\n",
        "Suggest potential future enhancements or features for the project in a markdown format.\n"
      ]
    },
    {
      "cell_type": "markdown",
      "metadata": {
        "id": "4c2b03d8"
      },
      "source": [
        "**Reasoning**:\n",
        "Create a markdown string for the \"Future Improvements (Optional)\" section, listing potential enhancements as instructed, and print it.\n",
        "\n"
      ]
    },
    {
      "cell_type": "code",
      "metadata": {
        "colab": {
          "base_uri": "https://localhost:8080/"
        },
        "id": "44d66752",
        "outputId": "7559c8a9-f6aa-4319-9fd8-bd9755fd62ba"
      },
      "source": [
        "markdown_future_improvements = \"\"\"\n",
        "## Future Improvements (Optional)\n",
        "\n",
        "Here are some potential enhancements and features that could be added to this project:\n",
        "\n",
        "*   **More Granular Feedback:** Implement features to provide more specific feedback, such as highlighting mispronounced words or identifying incorrect phonemes within the user's speech. This could involve aligning the user's audio and transcription with the reference more precisely.\n",
        "*   **Expanded Language Support:** Integrate additional language models for both ASR (Whisper supports many, but fine-tuning might be needed for better accuracy in less common languages) and TTS (exploring alternative TTS providers or models for broader coverage and more natural voices).\n",
        "*   **Advanced Model Integration:** Experiment with more advanced or specialized ASR, TTS, or audio embedding models to potentially improve transcription accuracy, naturalness of reference audio, or the precision of audio similarity scoring.\n",
        "*   **User Accounts and Progress Tracking:** Introduce a backend to allow users to create accounts, save their practice sessions, track their progress over time, and perhaps work through structured lessons or vocabulary lists.\n",
        "*   **Interactive/Gamified Interface:** Develop a more engaging user interface that incorporates interactive elements or gamification features to make pronunciation practice more fun and motivating. This could include scoring systems, challenges, or visual feedback on pronunciation.\n",
        "*   **Error Analysis and Suggestions:** Provide specific suggestions for improvement based on identified pronunciation errors, rather than just generic warnings. This could involve linking errors to phonetic descriptions or providing examples of correct pronunciation.\n",
        "\"\"\"\n",
        "print(markdown_future_improvements)"
      ],
      "execution_count": 7,
      "outputs": [
        {
          "output_type": "stream",
          "name": "stdout",
          "text": [
            "\n",
            "## Future Improvements (Optional)\n",
            "\n",
            "Here are some potential enhancements and features that could be added to this project:\n",
            "\n",
            "*   **More Granular Feedback:** Implement features to provide more specific feedback, such as highlighting mispronounced words or identifying incorrect phonemes within the user's speech. This could involve aligning the user's audio and transcription with the reference more precisely.\n",
            "*   **Expanded Language Support:** Integrate additional language models for both ASR (Whisper supports many, but fine-tuning might be needed for better accuracy in less common languages) and TTS (exploring alternative TTS providers or models for broader coverage and more natural voices).\n",
            "*   **Advanced Model Integration:** Experiment with more advanced or specialized ASR, TTS, or audio embedding models to potentially improve transcription accuracy, naturalness of reference audio, or the precision of audio similarity scoring.\n",
            "*   **User Accounts and Progress Tracking:** Introduce a backend to allow users to create accounts, save their practice sessions, track their progress over time, and perhaps work through structured lessons or vocabulary lists.\n",
            "*   **Interactive/Gamified Interface:** Develop a more engaging user interface that incorporates interactive elements or gamification features to make pronunciation practice more fun and motivating. This could include scoring systems, challenges, or visual feedback on pronunciation.\n",
            "*   **Error Analysis and Suggestions:** Provide specific suggestions for improvement based on identified pronunciation errors, rather than just generic warnings. This could involve linking errors to phonetic descriptions or providing examples of correct pronunciation.\n",
            "\n"
          ]
        }
      ]
    },
    {
      "cell_type": "markdown",
      "metadata": {
        "id": "f95ffc6b"
      },
      "source": [
        "## Summary:\n",
        "\n",
        "### Data Analysis Key Findings\n",
        "\n",
        "*   The project is a web-based tool for multilingual pronunciation practice, allowing users to generate reference audio, record their own pronunciation, and receive feedback based on text and audio similarity.\n",
        "*   The setup requires installing Python libraries including `openai-whisper`, `gradio`, `thefuzz`, `gtts`, `librosa`, `transformers`, `torch`, `numpy`, and `scikit-learn` using pip.\n",
        "*   The usage involves entering text and selecting a language to generate reference audio, then recording or uploading user audio for analysis, which provides scores, warnings, and a transcription.\n",
        "*   Key functions include `generate_reference_audio` (using Google TTS), `get_embedding` (using Wav2Vec2 for audio features), and `analyze_pronunciation` (using Whisper for transcription, fuzzy matching for text similarity, and cosine similarity for audio similarity).\n",
        "\n",
        "### Insights or Next Steps\n",
        "\n",
        "*   The current documentation covers the essential aspects of the project for a README file.\n",
        "*   A next step could be to integrate the generated markdown sections into a single README.md file.\n"
      ]
    }
  ]
}